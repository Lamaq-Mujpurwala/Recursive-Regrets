{
 "cells": [
  {
   "cell_type": "markdown",
   "id": "3a58cc23-13b5-44ae-9254-1e4c4cbdfe59",
   "metadata": {},
   "source": [
    "Section 1: Loading and Exploring the Dataset"
   ]
  },
  {
   "cell_type": "markdown",
   "id": "fa0ab044-1233-40d3-a928-70c8ea73faa8",
   "metadata": {},
   "source": [
    "Question 1:\n",
    "Load the Titanic dataset from a CSV file into a pandas DataFrame named titanic_df."
   ]
  },
  {
   "cell_type": "code",
   "execution_count": 1,
   "id": "ec212502-e0dc-47a3-ad91-adfafe6c189c",
   "metadata": {},
   "outputs": [],
   "source": [
    "import pandas as pd\n",
    "\n",
    "# Load the Titanic dataset\n",
    "titanic_df = pd.read_csv('titanic.csv')"
   ]
  },
  {
   "cell_type": "markdown",
   "id": "6394d0c8-d905-4788-b5b4-afa24c5b4d95",
   "metadata": {},
   "source": [
    "Question 2:\n",
    "Display the first 5 rows of the DataFrame using df.head()."
   ]
  },
  {
   "cell_type": "code",
   "execution_count": 3,
   "id": "918a8243-c3f7-49ed-9c24-97980c0e4502",
   "metadata": {},
   "outputs": [
    {
     "name": "stdout",
     "output_type": "stream",
     "text": [
      "   PassengerId  Survived  Pclass  \\\n",
      "0            1         0       3   \n",
      "1            2         1       1   \n",
      "2            3         1       3   \n",
      "3            4         1       1   \n",
      "4            5         0       3   \n",
      "\n",
      "                                                Name     Sex   Age  SibSp  \\\n",
      "0                            Braund, Mr. Owen Harris    male  22.0      1   \n",
      "1  Cumings, Mrs. John Bradley (Florence Briggs Th...  female  38.0      1   \n",
      "2                             Heikkinen, Miss. Laina  female  26.0      0   \n",
      "3       Futrelle, Mrs. Jacques Heath (Lily May Peel)  female  35.0      1   \n",
      "4                           Allen, Mr. William Henry    male  35.0      0   \n",
      "\n",
      "   Parch            Ticket     Fare Cabin Embarked  \n",
      "0      0         A/5 21171   7.2500   NaN        S  \n",
      "1      0          PC 17599  71.2833   C85        C  \n",
      "2      0  STON/O2. 3101282   7.9250   NaN        S  \n",
      "3      0            113803  53.1000  C123        S  \n",
      "4      0            373450   8.0500   NaN        S  \n"
     ]
    }
   ],
   "source": [
    "# Display the first 5 rows\n",
    "print(titanic_df.head())"
   ]
  },
  {
   "cell_type": "markdown",
   "id": "19cd90a8-2338-4bb7-b486-aaafc6df3010",
   "metadata": {},
   "source": [
    "Question 3:\n",
    "Display the last 5 rows of the DataFrame using df.tail()."
   ]
  },
  {
   "cell_type": "code",
   "execution_count": 5,
   "id": "81929e6e-ab5e-4ae8-8ca8-29f8b99cc751",
   "metadata": {},
   "outputs": [
    {
     "name": "stdout",
     "output_type": "stream",
     "text": [
      "     PassengerId  Survived  Pclass                                      Name  \\\n",
      "886          887         0       2                     Montvila, Rev. Juozas   \n",
      "887          888         1       1              Graham, Miss. Margaret Edith   \n",
      "888          889         0       3  Johnston, Miss. Catherine Helen \"Carrie\"   \n",
      "889          890         1       1                     Behr, Mr. Karl Howell   \n",
      "890          891         0       3                       Dooley, Mr. Patrick   \n",
      "\n",
      "        Sex   Age  SibSp  Parch      Ticket   Fare Cabin Embarked  \n",
      "886    male  27.0      0      0      211536  13.00   NaN        S  \n",
      "887  female  19.0      0      0      112053  30.00   B42        S  \n",
      "888  female   NaN      1      2  W./C. 6607  23.45   NaN        S  \n",
      "889    male  26.0      0      0      111369  30.00  C148        C  \n",
      "890    male  32.0      0      0      370376   7.75   NaN        Q  \n"
     ]
    }
   ],
   "source": [
    "# Display the last 5 rows\n",
    "print(titanic_df.tail())\n"
   ]
  },
  {
   "cell_type": "markdown",
   "id": "6b9c1efa-eeb7-40d6-b155-5440abc93f37",
   "metadata": {},
   "source": [
    "Question 4:\n",
    "Check the shape of the DataFrame to find out how many rows and columns it has."
   ]
  },
  {
   "cell_type": "code",
   "execution_count": 6,
   "id": "6117c9c3-a50d-439a-975e-69f5ab7202f8",
   "metadata": {},
   "outputs": [
    {
     "name": "stdout",
     "output_type": "stream",
     "text": [
      "(891, 12)\n"
     ]
    }
   ],
   "source": [
    "# Check the shape of the DataFrame\n",
    "print(titanic_df.shape)\n"
   ]
  },
  {
   "cell_type": "markdown",
   "id": "2ca8ec8f-859f-46fb-9161-8d6be005b5f2",
   "metadata": {},
   "source": [
    "Question 5:\n",
    "Check the data types of each column in titanic_df using df.dtypes."
   ]
  },
  {
   "cell_type": "code",
   "execution_count": 7,
   "id": "f7fac780-3978-4202-89ac-0e9651f6aa91",
   "metadata": {},
   "outputs": [
    {
     "name": "stdout",
     "output_type": "stream",
     "text": [
      "PassengerId      int64\n",
      "Survived         int64\n",
      "Pclass           int64\n",
      "Name            object\n",
      "Sex             object\n",
      "Age            float64\n",
      "SibSp            int64\n",
      "Parch            int64\n",
      "Ticket          object\n",
      "Fare           float64\n",
      "Cabin           object\n",
      "Embarked        object\n",
      "dtype: object\n"
     ]
    }
   ],
   "source": [
    "# Check data types of each column\n",
    "print(titanic_df.dtypes)\n"
   ]
  },
  {
   "cell_type": "markdown",
   "id": "5404e5b7-e87d-4dfd-9231-693d74248fcd",
   "metadata": {},
   "source": [
    "Question 6:\n",
    "Generate summary statistics for numerical columns using df.describe()."
   ]
  },
  {
   "cell_type": "code",
   "execution_count": 8,
   "id": "e483dff1-e684-43c7-b4b3-e8ee206bcb5e",
   "metadata": {},
   "outputs": [
    {
     "name": "stdout",
     "output_type": "stream",
     "text": [
      "       PassengerId    Survived      Pclass         Age       SibSp  \\\n",
      "count   891.000000  891.000000  891.000000  714.000000  891.000000   \n",
      "mean    446.000000    0.383838    2.308642   29.699118    0.523008   \n",
      "std     257.353842    0.486592    0.836071   14.526497    1.102743   \n",
      "min       1.000000    0.000000    1.000000    0.420000    0.000000   \n",
      "25%     223.500000    0.000000    2.000000   20.125000    0.000000   \n",
      "50%     446.000000    0.000000    3.000000   28.000000    0.000000   \n",
      "75%     668.500000    1.000000    3.000000   38.000000    1.000000   \n",
      "max     891.000000    1.000000    3.000000   80.000000    8.000000   \n",
      "\n",
      "            Parch        Fare  \n",
      "count  891.000000  891.000000  \n",
      "mean     0.381594   32.204208  \n",
      "std      0.806057   49.693429  \n",
      "min      0.000000    0.000000  \n",
      "25%      0.000000    7.910400  \n",
      "50%      0.000000   14.454200  \n",
      "75%      0.000000   31.000000  \n",
      "max      6.000000  512.329200  \n"
     ]
    }
   ],
   "source": [
    "# Generate summary statistics for numerical columns\n",
    "print(titanic_df.describe())\n"
   ]
  },
  {
   "cell_type": "markdown",
   "id": "d99a16a8-3823-4568-ad84-01f4fda5b582",
   "metadata": {},
   "source": [
    "Section 2: Identifying Missing Values"
   ]
  },
  {
   "cell_type": "markdown",
   "id": "091d675f-e192-49b7-80f1-dca2b38d9b35",
   "metadata": {},
   "source": [
    "Question 7:\n",
    "Use df.isnull().sum() to find out how many missing values are in each column."
   ]
  },
  {
   "cell_type": "code",
   "execution_count": 9,
   "id": "8eb600d7-6960-4ca5-97bd-c777a9401e64",
   "metadata": {},
   "outputs": [
    {
     "name": "stdout",
     "output_type": "stream",
     "text": [
      "PassengerId      0\n",
      "Survived         0\n",
      "Pclass           0\n",
      "Name             0\n",
      "Sex              0\n",
      "Age            177\n",
      "SibSp            0\n",
      "Parch            0\n",
      "Ticket           0\n",
      "Fare             0\n",
      "Cabin          687\n",
      "Embarked         2\n",
      "dtype: int64\n"
     ]
    }
   ],
   "source": [
    "# Find missing values in each column\n",
    "missing_values = titanic_df.isnull().sum()\n",
    "print(missing_values)\n"
   ]
  },
  {
   "cell_type": "markdown",
   "id": "f48f7dc8-a667-4890-99b6-df4073f5496b",
   "metadata": {},
   "source": [
    "Question 8:\n",
    "What is the total number of missing values in the Age column?"
   ]
  },
  {
   "cell_type": "code",
   "execution_count": 10,
   "id": "73eee6e7-8d6d-4291-b062-36b760e9ac66",
   "metadata": {},
   "outputs": [
    {
     "name": "stdout",
     "output_type": "stream",
     "text": [
      "Total missing values in Age: 177\n"
     ]
    }
   ],
   "source": [
    "# Total missing values in Age column\n",
    "missing_age = titanic_df['Age'].isnull().sum()\n",
    "print(f'Total missing values in Age: {missing_age}')\n"
   ]
  },
  {
   "cell_type": "markdown",
   "id": "32adf97f-efec-4368-8e7b-62368032f1ac",
   "metadata": {},
   "source": [
    "Section 3: Filling Missing Values"
   ]
  },
  {
   "cell_type": "markdown",
   "id": "9e016a88-dcca-4aa3-bf6b-d748e56f36ae",
   "metadata": {},
   "source": [
    "Question 9:\n",
    "Fill missing values in the Age column with the median age using:"
   ]
  },
  {
   "cell_type": "code",
   "execution_count": 13,
   "id": "7253f65f-e40a-4abf-92a1-f5a14640b76e",
   "metadata": {},
   "outputs": [],
   "source": [
    "# Fill missing values in the Age column with median age\n",
    "titanic_df['Age'] = titanic_df['Age'].fillna(titanic_df['Age'].median())\n",
    "\n"
   ]
  },
  {
   "cell_type": "markdown",
   "id": "97777a2e-d6f1-40c2-b82d-ec3291445cb2",
   "metadata": {},
   "source": [
    "Question 10:\n",
    "Fill missing values in the Embarked column with the mode using:"
   ]
  },
  {
   "cell_type": "code",
   "execution_count": 15,
   "id": "1196843c-3442-4adc-9b6c-fd2f5bd002cd",
   "metadata": {},
   "outputs": [],
   "source": [
    "# Fill missing values in the Embarked column with mode\n",
    "titanic_df['Embarked'] = titanic_df['Embarked'].fillna(titanic_df['Embarked'].mode()[0])\n",
    "\n"
   ]
  },
  {
   "cell_type": "markdown",
   "id": "ede16234-fdfb-46fd-b7f6-ae9045053b5d",
   "metadata": {},
   "source": [
    "Question 11:\n",
    "Fill missing values in the Fare column with the mean fare using:"
   ]
  },
  {
   "cell_type": "code",
   "execution_count": 17,
   "id": "7f53249a-8a25-43dd-8063-454ddc7b7fe7",
   "metadata": {},
   "outputs": [],
   "source": [
    "# Fill missing values in the Fare column with mean fare\n",
    "titanic_df['Fare'] = titanic_df['Fare'].fillna(titanic_df['Fare'].mean())\n",
    "\n"
   ]
  },
  {
   "cell_type": "markdown",
   "id": "c126ae9e-39bd-4d05-ab10-cbcac246d248",
   "metadata": {},
   "source": [
    "Section 4: Creating New Features"
   ]
  },
  {
   "cell_type": "markdown",
   "id": "0f1cf740-c37f-4b35-9bed-2c06aef0b0ee",
   "metadata": {},
   "source": [
    "Question 12:\n",
    "Create a new feature called is_minor that indicates whether a passenger is under 18 years old."
   ]
  },
  {
   "cell_type": "code",
   "execution_count": 18,
   "id": "af7de58c-c6ac-48ee-a938-328f87e79db6",
   "metadata": {},
   "outputs": [],
   "source": [
    "# Create a new feature for minors\n",
    "titanic_df['is_minor'] = titanic_df['Age'] < 18\n"
   ]
  },
  {
   "cell_type": "markdown",
   "id": "dd560e62-3434-4412-9030-668694187c1e",
   "metadata": {},
   "source": [
    "Question 13:\n",
    "Create a new feature called family_size that sums up the number of siblings/spouses and parents/children on board."
   ]
  },
  {
   "cell_type": "code",
   "execution_count": 19,
   "id": "62e6f81d-603e-47cf-8886-a47b84a1cf59",
   "metadata": {},
   "outputs": [],
   "source": [
    "# Create family_size feature\n",
    "titanic_df['family_size'] = titanic_df['SibSp'] + titanic_df['Parch']\n"
   ]
  },
  {
   "cell_type": "markdown",
   "id": "4a941db0-e129-4e8f-9fc9-0767314d440e",
   "metadata": {},
   "source": [
    "Section 5: Normalizing Data"
   ]
  },
  {
   "cell_type": "markdown",
   "id": "469bb008-d462-4cd9-ab25-d4897a9adc43",
   "metadata": {},
   "source": [
    "Question 14:\n",
    "Normalize the Fare column to have values between 0 and 1 using:"
   ]
  },
  {
   "cell_type": "code",
   "execution_count": 20,
   "id": "f9a1cd14-5133-486a-a851-c6c37d8c0262",
   "metadata": {},
   "outputs": [],
   "source": [
    "# Normalize Fare column to range between 0 and 1\n",
    "titanic_df['Fare'] = (titanic_df['Fare'] - titanic_df['Fare'].min()) / (titanic_df['Fare'].max() - titanic_df['Fare'].min())\n"
   ]
  },
  {
   "cell_type": "markdown",
   "id": "b6a73b64-2d6a-4c88-97a3-f03f32fabfbd",
   "metadata": {},
   "source": [
    "Section 6: Data Visualization"
   ]
  },
  {
   "cell_type": "markdown",
   "id": "b4002b50-1caa-4aca-934a-76375ca41890",
   "metadata": {},
   "source": [
    "Question 15:\n",
    "Create a bar chart showing the count of passengers in each Pclass using Matplotlib."
   ]
  },
  {
   "cell_type": "code",
   "execution_count": 21,
   "id": "9cdcb4a8-8afc-4e7d-9b17-cfaed0983ec1",
   "metadata": {},
   "outputs": [
    {
     "data": {
      "image/png": "[encoded data removed]",
      "text/plain": [
       "<Figure size 640x480 with 1 Axes>"
      ]
     },
     "metadata": {},
     "output_type": "display_data"
    }
   ],
   "source": [
    "import matplotlib.pyplot as plt\n",
    "\n",
    "# Create a bar chart for Pclass counts\n",
    "titanic_df['Pclass'].value_counts().plot(kind='bar')\n",
    "plt.title('Count of Passengers by Pclass')\n",
    "plt.xlabel('Pclass')\n",
    "plt.ylabel('Count')\n",
    "plt.show()\n"
   ]
  },
  {
   "cell_type": "markdown",
   "id": "f869c4f3-3945-4ad9-9c16-bf14915fa07e",
   "metadata": {},
   "source": [
    "Question 16:\n",
    "Plot a histogram of passenger ages to visualize their distribution."
   ]
  },
  {
   "cell_type": "code",
   "execution_count": 22,
   "id": "bbbbf4a7-5174-4580-a686-636a3a432c80",
   "metadata": {},
   "outputs": [
    {
     "data": {
      "image/png": "[encoded data removed]",
      "text/plain": [
       "<Figure size 640x480 with 1 Axes>"
      ]
     },
     "metadata": {},
     "output_type": "display_data"
    }
   ],
   "source": [
    "# Plot histogram of Age distribution\n",
    "titanic_df['Age'].hist(bins=30)\n",
    "plt.title('Age Distribution of Passengers')\n",
    "plt.xlabel('Age')\n",
    "plt.ylabel('Number of Passengers')\n",
    "plt.show()\n"
   ]
  },
  {
   "cell_type": "markdown",
   "id": "d73b9c31-72e5-404d-9a11-6a866c375565",
   "metadata": {},
   "source": [
    "Question 17:\n",
    "Generate a pie chart to display the proportion of survivors vs. non-survivors."
   ]
  },
  {
   "cell_type": "code",
   "execution_count": 24,
   "id": "32660595-1426-41c9-871d-d2d7a1a6dee9",
   "metadata": {},
   "outputs": [
    {
     "data": {
      "image/png": "[encoded data removed]",
      "text/plain": [
       "<Figure size 640x480 with 1 Axes>"
      ]
     },
     "metadata": {},
     "output_type": "display_data"
    }
   ],
   "source": [
    "# Pie chart for survivors vs non-survivors\n",
    "titanic_df['Survived'].value_counts().plot(kind='pie', autopct='%1.1f%%')\n",
    "plt.title('Proportion of Survivors vs Non-Survivors')\n",
    "plt.ylabel('')\n",
    "plt.show()\n"
   ]
  },
  {
   "cell_type": "markdown",
   "id": "609bc48e-3264-4ccd-92ca-5d99509b9375",
   "metadata": {},
   "source": [
    "Section 7: Grouping and Aggregation"
   ]
  },
  {
   "cell_type": "markdown",
   "id": "d1b1f86d-8d81-4919-be99-e0f907ceb5be",
   "metadata": {},
   "source": [
    "Question 18:\n",
    "Group passengers by Pclass and calculate the average fare for each class."
   ]
  },
  {
   "cell_type": "code",
   "execution_count": 25,
   "id": "ae19a539-fc48-4c0b-9a34-4faa0c989a42",
   "metadata": {},
   "outputs": [
    {
     "name": "stdout",
     "output_type": "stream",
     "text": [
      "Pclass\n",
      "1    0.164259\n",
      "2    0.040330\n",
      "3    0.026693\n",
      "Name: Fare, dtype: float64\n"
     ]
    }
   ],
   "source": [
    "# Calculate average fare by Pclass\n",
    "avg_fare_by_class = titanic_df.groupby('Pclass')['Fare'].mean()\n",
    "print(avg_fare_by_class)\n"
   ]
  },
  {
   "cell_type": "markdown",
   "id": "46d2551f-c05f-4fbc-979b-914c171321b8",
   "metadata": {},
   "source": [
    "Question 19:\n",
    "Find out how many passengers survived by gender using groupby and aggregation"
   ]
  },
  {
   "cell_type": "code",
   "execution_count": 26,
   "id": "b4f64a27-c6d1-4c22-a204-09cdba8a0ee1",
   "metadata": {},
   "outputs": [
    {
     "name": "stdout",
     "output_type": "stream",
     "text": [
      "Sex\n",
      "female    233\n",
      "male      109\n",
      "Name: Survived, dtype: int64\n"
     ]
    }
   ],
   "source": [
    "# Count survivors by gender\n",
    "survival_by_gender = titanic_df.groupby('Sex')['Survived'].sum()\n",
    "print(survival_by_gender)\n"
   ]
  },
  {
   "cell_type": "markdown",
   "id": "c581d8a3-e64d-4542-8cc0-39ef4039eabe",
   "metadata": {},
   "source": [
    "Section 8: Sorting and Filtering"
   ]
  },
  {
   "cell_type": "markdown",
   "id": "394fd5cc-131b-41c4-a6ba-83a73e042799",
   "metadata": {},
   "source": [
    "Question 20:\n",
    "Sort passengers by fare in descending order and display the top 10 entries"
   ]
  },
  {
   "cell_type": "code",
   "execution_count": 27,
   "id": "bc93bbb3-c0d3-472d-b4be-7e756e11e9c6",
   "metadata": {},
   "outputs": [
    {
     "name": "stdout",
     "output_type": "stream",
     "text": [
      "     PassengerId  Survived  Pclass                                   Name  \\\n",
      "737          738         1       1                 Lesurer, Mr. Gustave J   \n",
      "679          680         1       1     Cardeza, Mr. Thomas Drake Martinez   \n",
      "258          259         1       1                       Ward, Miss. Anna   \n",
      "438          439         0       1                      Fortune, Mr. Mark   \n",
      "88            89         1       1             Fortune, Miss. Mabel Helen   \n",
      "27            28         0       1         Fortune, Mr. Charles Alexander   \n",
      "341          342         1       1         Fortune, Miss. Alice Elizabeth   \n",
      "311          312         1       1             Ryerson, Miss. Emily Borie   \n",
      "742          743         1       1  Ryerson, Miss. Susan Parker \"Suzette\"   \n",
      "118          119         0       1               Baxter, Mr. Quigg Edmond   \n",
      "\n",
      "        Sex   Age  SibSp  Parch    Ticket      Fare            Cabin Embarked  \\\n",
      "737    male  35.0      0      0  PC 17755  1.000000             B101        C   \n",
      "679    male  36.0      0      1  PC 17755  1.000000      B51 B53 B55        C   \n",
      "258  female  35.0      0      0  PC 17755  1.000000              NaN        C   \n",
      "438    male  64.0      1      4     19950  0.513342      C23 C25 C27        S   \n",
      "88   female  23.0      3      2     19950  0.513342      C23 C25 C27        S   \n",
      "27     male  19.0      3      2     19950  0.513342      C23 C25 C27        S   \n",
      "341  female  24.0      3      2     19950  0.513342      C23 C25 C27        S   \n",
      "311  female  18.0      2      2  PC 17608  0.512122  B57 B59 B63 B66        C   \n",
      "742  female  21.0      2      2  PC 17608  0.512122  B57 B59 B63 B66        C   \n",
      "118    male  24.0      0      1  PC 17558  0.483128          B58 B60        C   \n",
      "\n",
      "     is_minor  family_size  \n",
      "737     False            0  \n",
      "679     False            1  \n",
      "258     False            0  \n",
      "438     False            5  \n",
      "88      False            5  \n",
      "27      False            5  \n",
      "341     False            5  \n",
      "311     False            4  \n",
      "742     False            4  \n",
      "118     False            1  \n"
     ]
    }
   ],
   "source": [
    "# Sort passengers by Fare and display top entries\n",
    "top_fares = titanic_df.sort_values(by='Fare', ascending=False).head(10)\n",
    "print(top_fares)\n"
   ]
  },
  {
   "cell_type": "markdown",
   "id": "b7b8ca45-351f-4550-a1ae-abe91d1f2e53",
   "metadata": {},
   "source": [
    "Question 21:\n",
    "Filter out all passengers who did not survive (where Survived == 0)."
   ]
  },
  {
   "cell_type": "code",
   "execution_count": 28,
   "id": "85bfe4a0-f55a-44de-8fea-d610c1f94974",
   "metadata": {},
   "outputs": [
    {
     "name": "stdout",
     "output_type": "stream",
     "text": [
      "     PassengerId  Survived  Pclass                                      Name  \\\n",
      "0              1         0       3                   Braund, Mr. Owen Harris   \n",
      "4              5         0       3                  Allen, Mr. William Henry   \n",
      "5              6         0       3                          Moran, Mr. James   \n",
      "6              7         0       1                   McCarthy, Mr. Timothy J   \n",
      "7              8         0       3            Palsson, Master. Gosta Leonard   \n",
      "..           ...       ...     ...                                       ...   \n",
      "884          885         0       3                    Sutehall, Mr. Henry Jr   \n",
      "885          886         0       3      Rice, Mrs. William (Margaret Norton)   \n",
      "886          887         0       2                     Montvila, Rev. Juozas   \n",
      "888          889         0       3  Johnston, Miss. Catherine Helen \"Carrie\"   \n",
      "890          891         0       3                       Dooley, Mr. Patrick   \n",
      "\n",
      "        Sex   Age  SibSp  Parch           Ticket      Fare Cabin Embarked  \\\n",
      "0      male  22.0      1      0        A/5 21171  0.014151   NaN        S   \n",
      "4      male  35.0      0      0           373450  0.015713   NaN        S   \n",
      "5      male  28.0      0      0           330877  0.016510   NaN        Q   \n",
      "6      male  54.0      0      0            17463  0.101229   E46        S   \n",
      "7      male   2.0      3      1           349909  0.041136   NaN        S   \n",
      "..      ...   ...    ...    ...              ...       ...   ...      ...   \n",
      "884    male  25.0      0      0  SOTON/OQ 392076  0.013761   NaN        S   \n",
      "885  female  39.0      0      5           382652  0.056848   NaN        Q   \n",
      "886    male  27.0      0      0           211536  0.025374   NaN        S   \n",
      "888  female  28.0      1      2       W./C. 6607  0.045771   NaN        S   \n",
      "890    male  32.0      0      0           370376  0.015127   NaN        Q   \n",
      "\n",
      "     is_minor  family_size  \n",
      "0       False            1  \n",
      "4       False            0  \n",
      "5       False            0  \n",
      "6       False            0  \n",
      "7        True            4  \n",
      "..        ...          ...  \n",
      "884     False            0  \n",
      "885     False            5  \n",
      "886     False            0  \n",
      "888     False            3  \n",
      "890     False            0  \n",
      "\n",
      "[549 rows x 14 columns]\n"
     ]
    }
   ],
   "source": [
    "# Filter non-survivors \n",
    "non_survivors = titanic_df[titanic_df['Survived'] == 0]\n",
    "print(non_survivors)\n"
   ]
  },
  {
   "cell_type": "markdown",
   "id": "5ccb1f11-56e3-4c9b-86b2-1ae0c328c550",
   "metadata": {},
   "source": [
    "Section 9: Correlation Analysis"
   ]
  },
  {
   "cell_type": "markdown",
   "id": "1e5c52af-82dd-40d0-a3cd-18b6562242f0",
   "metadata": {},
   "source": [
    "Question 22:\n",
    "Calculate and display the correlation matrix for numerical features in the dataset"
   ]
  },
  {
   "cell_type": "code",
   "execution_count": 30,
   "id": "dba04155-57fd-4db2-8ed5-e1dfd9f02e92",
   "metadata": {},
   "outputs": [
    {
     "name": "stdout",
     "output_type": "stream",
     "text": [
      "             PassengerId  Survived    Pclass       Age     SibSp     Parch  \\\n",
      "PassengerId     1.000000 -0.005007 -0.035144  0.034212 -0.057527 -0.001652   \n",
      "Survived       -0.005007  1.000000 -0.338481 -0.064910 -0.035322  0.081629   \n",
      "Pclass         -0.035144 -0.338481  1.000000 -0.339898  0.083081  0.018443   \n",
      "Age             0.034212 -0.064910 -0.339898  1.000000 -0.233296 -0.172482   \n",
      "SibSp          -0.057527 -0.035322  0.083081 -0.233296  1.000000  0.414838   \n",
      "Parch          -0.001652  0.081629  0.018443 -0.172482  0.414838  1.000000   \n",
      "Fare            0.012658  0.257307 -0.549500  0.096688  0.159651  0.216225   \n",
      "is_minor       -0.024874  0.122239  0.125620 -0.595143  0.324068  0.317670   \n",
      "family_size    -0.040143  0.016639  0.065997 -0.245619  0.890712  0.783111   \n",
      "\n",
      "                 Fare  is_minor  family_size  \n",
      "PassengerId  0.012658 -0.024874    -0.040143  \n",
      "Survived     0.257307  0.122239     0.016639  \n",
      "Pclass      -0.549500  0.125620     0.065997  \n",
      "Age          0.096688 -0.595143    -0.245619  \n",
      "SibSp        0.159651  0.324068     0.890712  \n",
      "Parch        0.216225  0.317670     0.783111  \n",
      "Fare         1.000000 -0.007546     0.217138  \n",
      "is_minor    -0.007546  1.000000     0.380192  \n",
      "family_size  0.217138  0.380192     1.000000  \n"
     ]
    }
   ],
   "source": [
    "# Calculate correlation matrix focusing only on numeric columns\n",
    "correlation_matrix = titanic_df.corr(numeric_only=True)\n",
    "print(correlation_matrix)\n"
   ]
  },
  {
   "cell_type": "markdown",
   "id": "b4fbd91b-2696-4210-9fae-f4644b9f51ca",
   "metadata": {},
   "source": [
    "Section 10: Exporting Data"
   ]
  },
  {
   "cell_type": "markdown",
   "id": "2d04bf7b-4320-4578-9459-1dca199c4da3",
   "metadata": {},
   "source": [
    "Question 23:\n",
    "Save your cleaned DataFrame to a new CSV file named cleaned_titanic.csv."
   ]
  },
  {
   "cell_type": "code",
   "execution_count": 31,
   "id": "d7710943-8e6d-4735-a9f7-d15badc62194",
   "metadata": {},
   "outputs": [],
   "source": [
    "# Save cleaned DataFrame to CSV file \n",
    "titanic_df.to_csv('cleaned_titanic.csv', index=False)\n"
   ]
  },
  {
   "cell_type": "markdown",
   "id": "cfa94879-3cc6-450f-b91e-9bbc5d829273",
   "metadata": {},
   "source": [
    "Section 11: Checking Data Consistency"
   ]
  },
  {
   "cell_type": "markdown",
   "id": "0dede3aa-8dea-4fcc-9774-5c713b154dd4",
   "metadata": {},
   "source": [
    "Question 24:\n",
    "Verify that all values in the Pclass column are valid (1,2, or3) and handle any invalid entries if necessary."
   ]
  },
  {
   "cell_type": "code",
   "execution_count": 32,
   "id": "4a61a66d-131b-44c3-aa97-17de472a585b",
   "metadata": {},
   "outputs": [
    {
     "name": "stdout",
     "output_type": "stream",
     "text": [
      "Empty DataFrame\n",
      "Columns: [PassengerId, Survived, Pclass, Name, Sex, Age, SibSp, Parch, Ticket, Fare, Cabin, Embarked, is_minor, family_size]\n",
      "Index: []\n"
     ]
    }
   ],
   "source": [
    "# Check unique values in Pclass \n",
    "valid_classes = [1,2,3]\n",
    "invalid_classes = titanic_df[~titanic_df['Pclass'].isin(valid_classes)]\n",
    "print(invalid_classes) # Display invalid entries if any.\n"
   ]
  }
 ],
 "metadata": {
  "kernelspec": {
   "display_name": "Python 3 (ipykernel)",
   "language": "python",
   "name": "python3"
  },
  "language_info": {
   "codemirror_mode": {
    "name": "ipython",
    "version": 3
   },
   "file_extension": ".py",
   "mimetype": "text/x-python",
   "name": "python",
   "nbconvert_exporter": "python",
   "pygments_lexer": "ipython3",
   "version": "3.12.3"
  }
 },
 "nbformat": 4,
 "nbformat_minor": 5
}
